{
 "cells": [
  {
   "cell_type": "code",
   "execution_count": 1,
   "metadata": {
    "collapsed": true
   },
   "outputs": [],
   "source": [
    "import pandas as pd\n",
    "\n",
    "def addIncDecCum(timelist, incdec):\n",
    "    global pd\n",
    "    df = pd.DataFrame()\n",
    "    df['time'] = timelist\n",
    "    df = df.sort_values('time')\n",
    "    df['incdec'] = incdec \n",
    "    df = pd.concat([pd.DataFrame({'time':[0], 'incdec':[0]}), df])\n",
    "    df = df.reset_index()\n",
    "    df = df.drop('index', axis=1)\n",
    "    df['cum'] = df.index\n",
    "    df = df.ix[:, ['time', 'incdec', 'cum']]\n",
    "    return df\n",
    "\n",
    "def addSNum(dfA, dfD):\n",
    "    global pd\n",
    "    # dfA と dfD を繋げる\n",
    "    dfAD = pd.concat([dfA, dfD])\n",
    "    dfAD = dfAD.sort_values('time')\n",
    "    dfAD = dfAD.reset_index()\n",
    "    dfAD = dfAD.drop(0)\n",
    "    dfAD = dfAD.drop(['index', 'cum'], axis=1)\n",
    "    dfAD = dfAD.reset_index()\n",
    "    dfAD = dfAD.drop('index', axis=1)\n",
    "    # s-num を追加\n",
    "    snum = [0]\n",
    "    for incdec in dfAD['incdec']:\n",
    "        snum.append(snum[-1] + incdec)\n",
    "    del snum[0]\n",
    "    dfAD['s-num'] = snum\n",
    "    \n",
    "    return dfAD\n",
    "\n",
    "def Sojourn(df):\n",
    "    dfA = addIncDecCum(df['a-time'],  1)\n",
    "    dfD = addIncDecCum(df['d-time'], -1)\n",
    "    dfAD = addSNum(dfA, dfD)\n",
    "    return dfA, dfD, dfAD"
   ]
  }
 ],
 "metadata": {
  "anaconda-cloud": {},
  "kernelspec": {
   "display_name": "Python [conda root]",
   "language": "python",
   "name": "conda-root-py"
  },
  "language_info": {
   "codemirror_mode": {
    "name": "ipython",
    "version": 3
   },
   "file_extension": ".py",
   "mimetype": "text/x-python",
   "name": "python",
   "nbconvert_exporter": "python",
   "pygments_lexer": "ipython3",
   "version": "3.5.2"
  }
 },
 "nbformat": 4,
 "nbformat_minor": 1
}
